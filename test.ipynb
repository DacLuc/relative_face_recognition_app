{
 "cells": [
  {
   "cell_type": "code",
   "execution_count": 1,
   "metadata": {},
   "outputs": [
    {
     "ename": "ValidationError",
     "evalue": "1 validation error for Student\nname\n  Input should be a valid string [type=string_type, input_value=1, input_type=int]\n    For further information visit https://errors.pydantic.dev/2.5/v/string_type",
     "output_type": "error",
     "traceback": [
      "\u001b[1;31m---------------------------------------------------------------------------\u001b[0m",
      "\u001b[1;31mValidationError\u001b[0m                           Traceback (most recent call last)",
      "\u001b[1;32mf:\\data1\\VSCode_Products\\relative_face_recognition_app\\test.ipynb Cell 1\u001b[0m line \u001b[0;36m7\n\u001b[0;32m      <a href='vscode-notebook-cell:/f%3A/data1/VSCode_Products/relative_face_recognition_app/test.ipynb#W0sZmlsZQ%3D%3D?line=2'>3</a>\u001b[0m \u001b[39mclass\u001b[39;00m \u001b[39mStudent\u001b[39;00m(BaseModel):\n\u001b[0;32m      <a href='vscode-notebook-cell:/f%3A/data1/VSCode_Products/relative_face_recognition_app/test.ipynb#W0sZmlsZQ%3D%3D?line=3'>4</a>\u001b[0m     name: \u001b[39mstr\u001b[39m\n\u001b[1;32m----> <a href='vscode-notebook-cell:/f%3A/data1/VSCode_Products/relative_face_recognition_app/test.ipynb#W0sZmlsZQ%3D%3D?line=6'>7</a>\u001b[0m student \u001b[39m=\u001b[39m Student(name\u001b[39m=\u001b[39;49m\u001b[39m1\u001b[39;49m)\n",
      "File \u001b[1;32mc:\\Users\\dacluc\\AppData\\Local\\Programs\\Python\\Python310\\lib\\site-packages\\pydantic\\main.py:164\u001b[0m, in \u001b[0;36mBaseModel.__init__\u001b[1;34m(__pydantic_self__, **data)\u001b[0m\n\u001b[0;32m    162\u001b[0m \u001b[39m# `__tracebackhide__` tells pytest and some other tools to omit this function from tracebacks\u001b[39;00m\n\u001b[0;32m    163\u001b[0m __tracebackhide__ \u001b[39m=\u001b[39m \u001b[39mTrue\u001b[39;00m\n\u001b[1;32m--> 164\u001b[0m __pydantic_self__\u001b[39m.\u001b[39;49m__pydantic_validator__\u001b[39m.\u001b[39;49mvalidate_python(data, self_instance\u001b[39m=\u001b[39;49m__pydantic_self__)\n",
      "\u001b[1;31mValidationError\u001b[0m: 1 validation error for Student\nname\n  Input should be a valid string [type=string_type, input_value=1, input_type=int]\n    For further information visit https://errors.pydantic.dev/2.5/v/string_type"
     ]
    }
   ],
   "source": [
    "class UserValidator:\n",
    "\n",
    "    @classmethod\n",
    "    def validate_new_user_signup(cls, username, password):\n",
    "        if not isinstance(username, str):\n",
    "            return False, \"username must be string\"\n",
    "        if not len(username) > 10:\n",
    "            return False, \"\"\n",
    "        \n",
    "        return True, \"\""
   ]
  }
 ],
 "metadata": {
  "kernelspec": {
   "display_name": "Python 3",
   "language": "python",
   "name": "python3"
  },
  "language_info": {
   "codemirror_mode": {
    "name": "ipython",
    "version": 3
   },
   "file_extension": ".py",
   "mimetype": "text/x-python",
   "name": "python",
   "nbconvert_exporter": "python",
   "pygments_lexer": "ipython3",
   "version": "3.10.11"
  }
 },
 "nbformat": 4,
 "nbformat_minor": 2
}
